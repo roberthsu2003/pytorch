{
  "nbformat": 4,
  "nbformat_minor": 0,
  "metadata": {
    "colab": {
      "provenance": [],
      "authorship_tag": "ABX9TyPLRvhuptJmA4y9K5e77C9+",
      "include_colab_link": true
    },
    "kernelspec": {
      "name": "python3",
      "display_name": "Python 3"
    },
    "language_info": {
      "name": "python"
    }
  },
  "cells": [
    {
      "cell_type": "markdown",
      "metadata": {
        "id": "view-in-github",
        "colab_type": "text"
      },
      "source": [
        "<a href=\"https://colab.research.google.com/github/roberthsu2003/pytorch/blob/main/p1ch2/test.ipynb\" target=\"_parent\"><img src=\"https://colab.research.google.com/assets/colab-badge.svg\" alt=\"Open In Colab\"/></a>"
      ]
    },
    {
      "cell_type": "code",
      "execution_count": 1,
      "metadata": {
        "id": "u_tnZtV-vdKt",
        "outputId": "fbe93641-2bc5-4544-f141-6865b336d66e",
        "colab": {
          "base_uri": "https://localhost:8080/"
        }
      },
      "outputs": [
        {
          "output_type": "stream",
          "name": "stdout",
          "text": [
            "Hello World\n"
          ]
        }
      ],
      "source": [
        "print(\"Hello World\")"
      ]
    },
    {
      "source": [
        "import pandas as pd\n",
        "\n",
        "# 建立範例 DataFrame\n",
        "data = {'姓名': ['Alice', 'Bob', 'Charlie', 'David', 'Eve'],\n",
        "        '年齡': [25, 30, 28, 22, 35],\n",
        "        '城市': ['New York', 'London', 'Paris', 'New York', 'London']}\n",
        "df = pd.DataFrame(data)\n",
        "\n",
        "# 過濾年齡大於 28 歲的行\n",
        "filtered_df = df[df['年齡'] > 28]\n",
        "print(filtered_df)\n",
        "\n",
        "# 過濾居住在紐約的行\n",
        "filtered_df = df[df['城市'] == 'New York']\n",
        "print(filtered_df)\n",
        "\n",
        "# 過濾年齡大於 25 歲且居住在倫敦的行\n",
        "filtered_df = df[(df['年齡'] > 25) & (df['城市'] == 'London')]\n",
        "print(filtered_df)"
      ],
      "cell_type": "code",
      "metadata": {
        "id": "_b7iCCKhwRkt",
        "outputId": "60f232ca-9f88-49ec-d6f9-8bfbd99d249d",
        "colab": {
          "base_uri": "https://localhost:8080/"
        }
      },
      "execution_count": 4,
      "outputs": [
        {
          "output_type": "stream",
          "name": "stdout",
          "text": [
            "    姓名  年齡      城市\n",
            "1  Bob  30  London\n",
            "4  Eve  35  London\n",
            "      姓名  年齡        城市\n",
            "0  Alice  25  New York\n",
            "3  David  22  New York\n",
            "    姓名  年齡      城市\n",
            "1  Bob  30  London\n",
            "4  Eve  35  London\n"
          ]
        }
      ]
    }
  ]
}