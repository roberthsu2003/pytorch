{
  "cells": [
    {
      "cell_type": "markdown",
      "metadata": {
        "id": "KLuW1A16jYmV"
      },
      "source": [
        "<a href=\"https://colab.research.google.com/github/roberthsu2003/pytorch/blob/main/p1ch2/4_mnist1.ipynb\" target=\"_parent\"><img src=\"https://colab.research.google.com/assets/colab-badge.svg\" alt=\"Open In Colab\"/></a>"
      ]
    }
  ],
  "metadata": {
    "language_info": {
      "name": "python"
    },
    "colab": {
      "provenance": []
    }
  },
  "nbformat": 4,
  "nbformat_minor": 0
}